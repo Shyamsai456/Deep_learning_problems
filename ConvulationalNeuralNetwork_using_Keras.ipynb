{
  "nbformat": 4,
  "nbformat_minor": 0,
  "metadata": {
    "colab": {
      "provenance": [],
      "authorship_tag": "ABX9TyN3iO+B9BOTnh1pOKyYWDt0",
      "include_colab_link": true
    },
    "kernelspec": {
      "name": "python3",
      "display_name": "Python 3"
    },
    "language_info": {
      "name": "python"
    }
  },
  "cells": [
    {
      "cell_type": "markdown",
      "metadata": {
        "id": "view-in-github",
        "colab_type": "text"
      },
      "source": [
        "<a href=\"https://colab.research.google.com/github/Shyamsai456/Deep_learning_problems/blob/main/ConvulationalNeuralNetwork_using_Keras.ipynb\" target=\"_parent\"><img src=\"https://colab.research.google.com/assets/colab-badge.svg\" alt=\"Open In Colab\"/></a>"
      ]
    },
    {
      "cell_type": "code",
      "execution_count": 5,
      "metadata": {
        "id": "tUaf84BgyJe-"
      },
      "outputs": [],
      "source": [
        "from tensorflow import keras\n",
        "from keras import layers\n",
        "from keras import Sequential\n",
        "import numpy as np\n",
        "import pandas as pd\n",
        "import matplotlib.pyplot as plt"
      ]
    },
    {
      "cell_type": "code",
      "source": [
        "from keras.layers import Conv2D # to add convolutional layers\n",
        "from keras.layers import MaxPooling2D # to add pooling layers\n",
        "from keras.layers import Flatten # to flatten data for fully connected layers"
      ],
      "metadata": {
        "id": "j1VnticT2ZRx"
      },
      "execution_count": 6,
      "outputs": []
    },
    {
      "cell_type": "code",
      "source": [
        "from keras.layers import Dense # to add fully connected layers\n",
        "from keras.layers import Input\n",
        "from keras.utils import to_categorical"
      ],
      "metadata": {
        "id": "2svTX0_qG6cQ"
      },
      "execution_count": 9,
      "outputs": []
    },
    {
      "cell_type": "code",
      "source": [
        "from keras.datasets import mnist\n",
        "\n",
        "#Load Data\n",
        "(X_train, y_train), (X_test, y_test) = mnist.load_data()\n",
        "\n",
        "# reshape to be [samples][pixels][width][height]\n",
        "\n",
        "X_train = X_train.reshape(X_train.shape[0],28,28,1).astype('float32')\n",
        "X_test = X_test.reshape(X_test.shape[0],28,28,1).astype('float32')\n",
        "\n",
        "X_train = X_train / 255 # normalize training data\n",
        "X_test = X_test / 255 # normalize test data"
      ],
      "metadata": {
        "colab": {
          "base_uri": "https://localhost:8080/"
        },
        "id": "U33X29mhHctl",
        "outputId": "b4a46d31-ecf3-4692-8eab-74bd38c7ce19"
      },
      "execution_count": 10,
      "outputs": [
        {
          "output_type": "stream",
          "name": "stdout",
          "text": [
            "Downloading data from https://storage.googleapis.com/tensorflow/tf-keras-datasets/mnist.npz\n",
            "\u001b[1m11490434/11490434\u001b[0m \u001b[32m━━━━━━━━━━━━━━━━━━━━\u001b[0m\u001b[37m\u001b[0m \u001b[1m0s\u001b[0m 0us/step\n"
          ]
        }
      ]
    },
    {
      "cell_type": "code",
      "source": [
        "y_train = to_categorical(y_train)\n",
        "y_test = to_categorical(y_test)\n",
        "\n",
        "num_classes = y_test.shape[1] # number of categories"
      ],
      "metadata": {
        "id": "0AIP7yleISKG"
      },
      "execution_count": 11,
      "outputs": []
    },
    {
      "cell_type": "code",
      "source": [
        "#with one Conv layer\n",
        "def conv_model1layer():\n",
        "  #create model\n",
        "  model = Sequential()\n",
        "  model.add(Input(shape=(28, 28, 1)))\n",
        "  model.add(Conv2D(16,(2,2),strides=(1,1),activation='relu'))\n",
        "  model.add(MaxPooling2D(pool_size=(2,2),strides=(2,2)))\n",
        "\n",
        "  model.add(Flatten)\n",
        "  model.add(Dense(100,activation='relu'))\n",
        "  model.add(Dense(num_classes,activation='softmax'))\n",
        "  #compile model\n",
        "  model.compile(optimizer='adam',loss='categorical_crossentropy',metrics=['accuracy'])\n",
        "  return model\n",
        "\n",
        "\n",
        ""
      ],
      "metadata": {
        "id": "iK9xwDdVIYRe"
      },
      "execution_count": 17,
      "outputs": []
    },
    {
      "cell_type": "code",
      "source": [
        "def convolutional_model():\n",
        "\n",
        "    # create model\n",
        "    model = Sequential()\n",
        "    model.add(Input(shape=(28, 28, 1)))\n",
        "    model.add(Conv2D(16, (5, 5), strides=(1, 1), activation='relu'))\n",
        "    model.add(MaxPooling2D(pool_size=(2, 2), strides=(2, 2)))\n",
        "\n",
        "    model.add(Flatten())\n",
        "    model.add(Dense(100, activation='relu'))\n",
        "    model.add(Dense(num_classes, activation='softmax'))\n",
        "\n",
        "    # compile model\n",
        "    model.compile(optimizer='adam', loss='categorical_crossentropy',  metrics=['accuracy'])\n",
        "    return model"
      ],
      "metadata": {
        "id": "ZR1DzM1PLPSa"
      },
      "execution_count": 19,
      "outputs": []
    },
    {
      "cell_type": "code",
      "source": [
        "model = convolutional_model()\n",
        "model.fit(X_train,y_train,validation_data=(X_test,y_test),epochs=10,batch_size= 200,verbose =2)\n",
        "\n",
        "#evaluate the code\n",
        "scores = model.evaluate(X_test, y_test, verbose=0)\n",
        "print(\"Accuracy: {} \\n Error: {}\".format(scores[1], 100-scores[1]*100))"
      ],
      "metadata": {
        "colab": {
          "base_uri": "https://localhost:8080/"
        },
        "id": "5-Iz4sqDJxdF",
        "outputId": "ab5593a7-059c-437a-ef41-63c20a642942"
      },
      "execution_count": 20,
      "outputs": [
        {
          "output_type": "stream",
          "name": "stdout",
          "text": [
            "Epoch 1/10\n",
            "300/300 - 23s - 76ms/step - accuracy: 0.9164 - loss: 0.2958 - val_accuracy: 0.9675 - val_loss: 0.1122\n",
            "Epoch 2/10\n",
            "300/300 - 41s - 136ms/step - accuracy: 0.9747 - loss: 0.0853 - val_accuracy: 0.9809 - val_loss: 0.0638\n",
            "Epoch 3/10\n",
            "300/300 - 46s - 153ms/step - accuracy: 0.9833 - loss: 0.0555 - val_accuracy: 0.9840 - val_loss: 0.0477\n",
            "Epoch 4/10\n",
            "300/300 - 38s - 126ms/step - accuracy: 0.9874 - loss: 0.0424 - val_accuracy: 0.9847 - val_loss: 0.0450\n",
            "Epoch 5/10\n",
            "300/300 - 42s - 141ms/step - accuracy: 0.9897 - loss: 0.0338 - val_accuracy: 0.9869 - val_loss: 0.0416\n",
            "Epoch 6/10\n",
            "300/300 - 49s - 163ms/step - accuracy: 0.9914 - loss: 0.0283 - val_accuracy: 0.9880 - val_loss: 0.0362\n",
            "Epoch 7/10\n",
            "300/300 - 35s - 118ms/step - accuracy: 0.9929 - loss: 0.0231 - val_accuracy: 0.9877 - val_loss: 0.0352\n",
            "Epoch 8/10\n",
            "300/300 - 36s - 122ms/step - accuracy: 0.9944 - loss: 0.0191 - val_accuracy: 0.9892 - val_loss: 0.0360\n",
            "Epoch 9/10\n",
            "300/300 - 38s - 128ms/step - accuracy: 0.9953 - loss: 0.0162 - val_accuracy: 0.9874 - val_loss: 0.0380\n",
            "Epoch 10/10\n",
            "300/300 - 19s - 65ms/step - accuracy: 0.9962 - loss: 0.0130 - val_accuracy: 0.9883 - val_loss: 0.0362\n",
            "Accuracy: 0.9883000254631042 \n",
            " Error: 1.1699974536895752\n"
          ]
        }
      ]
    },
    {
      "cell_type": "code",
      "source": [
        "def convolutional_model2():\n",
        "  #model creation\n",
        "  model1 = Sequential()\n",
        "  model1.add(Input(shape=(28,28,1)))\n",
        "  model1.add(Conv2D(16,(5,5),strides=(1,1),activation='relu'))\n",
        "  model1.add(MaxPooling2D(pool_size=(2,2),strides=(2,2)))\n",
        "  model1.add(Conv2D(32,(2,2),strides=(1,1),activation='relu'))\n",
        "  model1.add(MaxPooling2D(pool_size=(2,2)))\n",
        "\n",
        "  model1.add(Flatten())\n",
        "  model1.add(Dense(100,activation='relu'))\n",
        "  model1.add(Dense(num_classes,activation='softmax'))\n",
        "  model1.compile(optimizer='adam',loss='categorical_crossentropy',metrics=['accuracy'])\n",
        "  return model1"
      ],
      "metadata": {
        "id": "3OhQYNElLnD-"
      },
      "execution_count": 21,
      "outputs": []
    },
    {
      "cell_type": "code",
      "source": [
        "model1 = convolutional_model2()\n",
        "model1.fit(X_train,y_train,validation_data=(X_test,y_test),epochs= 10, batch_size = 200,verbose=2)\n",
        "\n",
        "#evaluate model\n",
        "model1.evaluate(X_test,y_test,verbose=0)\n",
        "print(\"Accuracy: {} \\n Error: {}\".format(scores[1], 100-scores[1]*100))"
      ],
      "metadata": {
        "colab": {
          "base_uri": "https://localhost:8080/"
        },
        "id": "JDJiy8pmL_uz",
        "outputId": "ecb2ee4b-9fd0-459a-d69d-d07ebc1328fb"
      },
      "execution_count": 23,
      "outputs": [
        {
          "output_type": "stream",
          "name": "stdout",
          "text": [
            "Epoch 1/10\n",
            "300/300 - 26s - 85ms/step - accuracy: 0.8968 - loss: 0.3632 - val_accuracy: 0.9722 - val_loss: 0.0954\n",
            "Epoch 2/10\n",
            "300/300 - 41s - 136ms/step - accuracy: 0.9730 - loss: 0.0878 - val_accuracy: 0.9820 - val_loss: 0.0608\n",
            "Epoch 3/10\n",
            "300/300 - 24s - 79ms/step - accuracy: 0.9811 - loss: 0.0614 - val_accuracy: 0.9849 - val_loss: 0.0466\n",
            "Epoch 4/10\n",
            "300/300 - 42s - 141ms/step - accuracy: 0.9853 - loss: 0.0493 - val_accuracy: 0.9871 - val_loss: 0.0434\n",
            "Epoch 5/10\n",
            "300/300 - 39s - 131ms/step - accuracy: 0.9870 - loss: 0.0411 - val_accuracy: 0.9874 - val_loss: 0.0432\n",
            "Epoch 6/10\n",
            "300/300 - 41s - 136ms/step - accuracy: 0.9888 - loss: 0.0358 - val_accuracy: 0.9884 - val_loss: 0.0370\n",
            "Epoch 7/10\n",
            "300/300 - 39s - 131ms/step - accuracy: 0.9901 - loss: 0.0311 - val_accuracy: 0.9860 - val_loss: 0.0447\n",
            "Epoch 8/10\n",
            "300/300 - 24s - 80ms/step - accuracy: 0.9915 - loss: 0.0264 - val_accuracy: 0.9877 - val_loss: 0.0364\n",
            "Epoch 9/10\n",
            "300/300 - 40s - 134ms/step - accuracy: 0.9926 - loss: 0.0238 - val_accuracy: 0.9890 - val_loss: 0.0350\n",
            "Epoch 10/10\n",
            "300/300 - 24s - 79ms/step - accuracy: 0.9934 - loss: 0.0207 - val_accuracy: 0.9876 - val_loss: 0.0364\n",
            "Accuracy: 0.9883000254631042 \n",
            " Error: 1.1699974536895752\n"
          ]
        }
      ]
    }
  ]
}