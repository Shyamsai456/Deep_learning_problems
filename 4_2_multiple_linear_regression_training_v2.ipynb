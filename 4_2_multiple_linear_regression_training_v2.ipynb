{
  "cells": [
    {
      "cell_type": "markdown",
      "metadata": {
        "id": "view-in-github",
        "colab_type": "text"
      },
      "source": [
        "<a href=\"https://colab.research.google.com/github/Shyamsai456/Deep_learning_problems/blob/main/4_2_multiple_linear_regression_training_v2.ipynb\" target=\"_parent\"><img src=\"https://colab.research.google.com/assets/colab-badge.svg\" alt=\"Open In Colab\"/></a>"
      ]
    },
    {
      "cell_type": "markdown",
      "metadata": {
        "id": "19671fa3-cc88-4dd7-9d13-4771c510955a"
      },
      "source": [
        "<h1>Linear Regression Multiple Outputs</h1>\n"
      ]
    },
    {
      "cell_type": "code",
      "metadata": {
        "id": "a2972e3d-0337-4085-868c-2b248b79dc83"
      },
      "outputs": [],
      "source": [
        "# Import the libraries we need for this lab\n",
        "\n",
        "from torch import nn,optim\n",
        "import torch\n",
        "import numpy as np\n",
        "import matplotlib.pyplot as plt\n",
        "\n",
        "from mpl_toolkits.mplot3d import Axes3D\n",
        "from torch.utils.data import Dataset, DataLoader\n",
        "import warnings\n",
        "\n",
        "# Suppress all warnings\n",
        "warnings.filterwarnings(\"ignore\")"
      ],
      "execution_count": 1
    },
    {
      "cell_type": "markdown",
      "metadata": {
        "id": "1eb742f7-ee05-444c-90d5-3e18be83b045"
      },
      "source": [
        "Set the random seed:\n"
      ]
    },
    {
      "cell_type": "code",
      "metadata": {
        "colab": {
          "base_uri": "https://localhost:8080/"
        },
        "id": "2a507b11-fc54-4b6f-8bc4-42f1b0d38fbd",
        "outputId": "ae3e5800-f6e6-4f0b-c7eb-dc23a81bf956"
      },
      "outputs": [
        {
          "output_type": "execute_result",
          "data": {
            "text/plain": [
              "<torch._C.Generator at 0x7a7e61591b50>"
            ]
          },
          "metadata": {},
          "execution_count": 2
        }
      ],
      "source": [
        "# Set the random seed to 1.\n",
        "\n",
        "torch.manual_seed(1)"
      ],
      "execution_count": 2
    },
    {
      "cell_type": "markdown",
      "metadata": {
        "id": "fe6d2844-c67f-43c6-a5e1-c2175a05e863"
      },
      "source": [
        "Use this function for plotting:\n"
      ]
    },
    {
      "cell_type": "code",
      "metadata": {
        "id": "56428494-3686-4e42-bf48-a4ea670dfcde"
      },
      "outputs": [],
      "source": [
        "# The function for plotting 2D\n",
        "\n",
        "def Plot_2D_Plane(model, dataset, n=0):\n",
        "    w1 = model.state_dict()['linear.weight'].numpy()[0][0]\n",
        "    w2 = model.state_dict()['linear.weight'].numpy()[0][1]\n",
        "    b = model.state_dict()['linear.bias'].numpy()\n",
        "\n",
        "    # Data\n",
        "    x1 = dataset.x[:, 0].view(-1, 1).numpy()\n",
        "    x2 = dataset.x[:, 1].view(-1, 1).numpy()\n",
        "    y = dataset.y.numpy()\n",
        "\n",
        "    # Make plane\n",
        "    X, Y = np.meshgrid(np.arange(x1.min(), x1.max(), 0.05), np.arange(x2.min(), x2.max(), 0.05))\n",
        "    yhat = w1 * X + w2 * Y + b\n",
        "\n",
        "    # Plotting\n",
        "    fig = plt.figure()\n",
        "    ax = fig.gca(projection='3d')\n",
        "\n",
        "    ax.plot(x1[:, 0], x2[:, 0], y[:, 0],'ro', label='y') # Scatter plot\n",
        "\n",
        "    ax.plot_surface(X, Y, yhat) # Plane plot\n",
        "\n",
        "    ax.set_xlabel('x1 ')\n",
        "    ax.set_ylabel('x2 ')\n",
        "    ax.set_zlabel('y')\n",
        "    plt.title('estimated plane iteration:' + str(n))\n",
        "    ax.legend()\n",
        "\n",
        "    plt.show()"
      ],
      "execution_count": 3
    },
    {
      "cell_type": "markdown",
      "metadata": {
        "id": "52559ec6-5cba-4035-8bda-a2e200da7ab6"
      },
      "source": [
        "<!--Empty Space for separating topics-->\n"
      ]
    },
    {
      "cell_type": "markdown",
      "metadata": {
        "id": "8d1c45cd-ef2d-4aab-826a-4ff68a8be655"
      },
      "source": [
        "<a name=\"Makeup-Data\"><h2 id=\" #Makeup-Data\" > Make Some Data </h2></a>\n"
      ]
    },
    {
      "cell_type": "code",
      "metadata": {
        "id": "bf351d9b-b908-4092-8906-b3f5b3885553"
      },
      "outputs": [],
      "source": [
        "# Create a 2D dataset\n",
        "\n",
        "class Data2D(Dataset):\n",
        "\n",
        "    # Constructor\n",
        "    def __init__(self):\n",
        "        self.x = torch.zeros(20, 2)\n",
        "        self.x[:, 0] = torch.arange(-1, 1, 0.1)\n",
        "        self.x[:, 1] = torch.arange(-1, 1, 0.1)\n",
        "        self.w = torch.tensor([[1.0], [1.0]])\n",
        "        self.b = 1\n",
        "        self.f = torch.mm(self.x, self.w) + self.b\n",
        "        self.y = self.f + 0.1 * torch.randn((self.x.shape[0],1))\n",
        "        self.len = self.x.shape[0]\n",
        "\n",
        "    # Getter\n",
        "    def __getitem__(self, index):\n",
        "        return self.x[index], self.y[index]\n",
        "\n",
        "    # Get Length\n",
        "    def __len__(self):\n",
        "        return self.len"
      ],
      "execution_count": 4
    },
    {
      "cell_type": "markdown",
      "metadata": {
        "id": "a2b38d5c-8902-44e9-a2df-6eb6201eb023"
      },
      "source": [
        "Create a dataset object:\n"
      ]
    },
    {
      "cell_type": "code",
      "metadata": {
        "id": "4e53a993-260e-49e4-9c3a-d1517e0f4828"
      },
      "outputs": [],
      "source": [
        "# Create the dataset object\n",
        "\n",
        "data_set = Data2D()"
      ],
      "execution_count": 5
    },
    {
      "cell_type": "markdown",
      "metadata": {
        "id": "8fba1d18-a3ce-422a-a105-21fc46afe264"
      },
      "source": [
        "<a name=\"Model_Cost\"><h2 id=\"Model_Cost\">Create the Model, Optimizer, and Total Loss Function (Cost)</h2></a>\n"
      ]
    },
    {
      "cell_type": "markdown",
      "metadata": {
        "id": "45582107-80df-41bb-b12a-b3a21de552bc"
      },
      "source": [
        "Create a customized linear regression module:\n"
      ]
    },
    {
      "cell_type": "code",
      "metadata": {
        "id": "045c845a-8af1-4d34-b675-24cebfb3cacc"
      },
      "outputs": [],
      "source": [
        "# Create a customized linear\n",
        "\n",
        "class linear_regression(nn.Module):\n",
        "\n",
        "    # Constructor\n",
        "    def __init__(self, input_size, output_size):\n",
        "        super(linear_regression, self).__init__()\n",
        "        self.linear = nn.Linear(input_size, output_size)\n",
        "\n",
        "    # Prediction\n",
        "    def forward(self, x):\n",
        "        yhat = self.linear(x)\n",
        "        return yhat"
      ],
      "execution_count": 6
    },
    {
      "cell_type": "markdown",
      "metadata": {
        "id": "4d8249dd-f394-4fba-aff9-fe96798793c9"
      },
      "source": [
        "Create a model. Use two features: make the input size 2 and the output size 1:\n"
      ]
    },
    {
      "cell_type": "code",
      "metadata": {
        "colab": {
          "base_uri": "https://localhost:8080/"
        },
        "id": "d35f0fa7-9aca-459a-9970-70f12af67249",
        "outputId": "964aa291-da6a-4c8c-a3fc-58900f98842a"
      },
      "outputs": [
        {
          "output_type": "stream",
          "name": "stdout",
          "text": [
            "The parameters:  [Parameter containing:\n",
            "tensor([[ 0.6209, -0.1178]], requires_grad=True), Parameter containing:\n",
            "tensor([0.3026], requires_grad=True)]\n"
          ]
        }
      ],
      "source": [
        "# Create the linear regression model and print the parameters\n",
        "\n",
        "model = linear_regression(2,1)\n",
        "print(\"The parameters: \", list(model.parameters()))"
      ],
      "execution_count": 7
    },
    {
      "cell_type": "markdown",
      "metadata": {
        "id": "d4e1ec5c-e258-46f1-a087-d53c5d6141ae"
      },
      "source": [
        "Create an optimizer  object. Set the learning rate to 0.1. <b>Don't forget to enter the model parameters in the constructor.</b>\n"
      ]
    },
    {
      "cell_type": "markdown",
      "metadata": {
        "id": "8262fb11-0a12-4ad2-9177-526cb64f415c"
      },
      "source": [
        "<img src=\"https://s3-api.us-geo.objectstorage.softlayer.net/cf-courses-data/CognitiveClass/DL0110EN/notebook_images%20/chapter2/2.6.2paramater_hate.png\" width=\"100\" alt=\"How the optimizer works\">\n"
      ]
    },
    {
      "cell_type": "code",
      "metadata": {
        "id": "0f79f9e9-038e-47fe-a269-2d30bc1cd15e"
      },
      "outputs": [],
      "source": [
        "# Create the optimizer\n",
        "\n",
        "optimizer = optim.SGD(model.parameters(), lr=0.1)"
      ],
      "execution_count": 8
    },
    {
      "cell_type": "markdown",
      "metadata": {
        "id": "07904e0e-cf6e-498a-a5c6-3e51e220d392"
      },
      "source": [
        "Create the criterion function that calculates the total loss or cost:\n"
      ]
    },
    {
      "cell_type": "code",
      "metadata": {
        "id": "20343e51-9c44-411d-b4fd-88da70039eac"
      },
      "outputs": [],
      "source": [
        "# Create the cost function\n",
        "\n",
        "criterion = nn.MSELoss()"
      ],
      "execution_count": 9
    },
    {
      "cell_type": "markdown",
      "metadata": {
        "id": "8f199ad0-c312-4b25-9ee4-bcc2facfdf21"
      },
      "source": [
        "Create a data loader object. Set the batch_size equal to 2:\n"
      ]
    },
    {
      "cell_type": "code",
      "metadata": {
        "id": "55035028-2e4b-4e61-b282-cac2ae96fb38"
      },
      "outputs": [],
      "source": [
        "# Create the data loader\n",
        "\n",
        "train_loader = DataLoader(dataset=data_set, batch_size=2)"
      ],
      "execution_count": 10
    },
    {
      "cell_type": "markdown",
      "metadata": {
        "id": "38503e5a-eb48-4c17-bd64-fd6b69fa24a6"
      },
      "source": [
        "<!--Empty Space for separating topics-->\n"
      ]
    },
    {
      "cell_type": "markdown",
      "metadata": {
        "id": "f1976831-07ca-427a-89ac-5daf36ac0593"
      },
      "source": [
        "<a name=\"BGD\"><h2 id=\"BGD\">Train the Model via Mini-Batch Gradient Descent</h2></a>\n"
      ]
    },
    {
      "cell_type": "markdown",
      "metadata": {
        "id": "c88b6b1f-3570-41ae-8c1a-ba795143760f"
      },
      "source": [
        "Run 100 epochs of Mini-Batch Gradient Descent and store the total loss or cost for every iteration. Remember that this is an approximation of the true total loss or cost:\n"
      ]
    },
    {
      "cell_type": "code",
      "metadata": {
        "colab": {
          "base_uri": "https://localhost:8080/"
        },
        "id": "2d9e3c36-8fd5-41d8-b3c8-319fb2e60938",
        "outputId": "8de32cb7-5062-4dba-fbbf-14e20d9d92b1"
      },
      "outputs": [
        {
          "output_type": "stream",
          "name": "stdout",
          "text": [
            "Before Training: \n",
            "After Training: \n"
          ]
        }
      ],
      "source": [
        "# Train the model\n",
        "\n",
        "LOSS = []\n",
        "print(\"Before Training: \")\n",
        "#Plot_2D_Plane(model, data_set)\n",
        "epochs = 100\n",
        "\n",
        "def train_model(epochs):\n",
        "    for epoch in range(epochs):\n",
        "        for x,y in train_loader:\n",
        "            yhat = model(x)\n",
        "            loss = criterion(yhat, y)\n",
        "            LOSS.append(loss.item())\n",
        "            optimizer.zero_grad()\n",
        "            loss.backward()\n",
        "            optimizer.step()\n",
        "train_model(epochs)\n",
        "print(\"After Training: \")\n",
        "#Plot_2D_Plane(model, data_set, epochs)"
      ],
      "execution_count": 13
    },
    {
      "cell_type": "code",
      "metadata": {
        "colab": {
          "base_uri": "https://localhost:8080/",
          "height": 466
        },
        "id": "05d66913-eb4a-4133-9ed2-ebe33d3dbfd2",
        "outputId": "2467980a-dffa-487d-d261-c526c708d006"
      },
      "outputs": [
        {
          "output_type": "execute_result",
          "data": {
            "text/plain": [
              "Text(0, 0.5, 'Cost/total loss ')"
            ]
          },
          "metadata": {},
          "execution_count": 14
        },
        {
          "output_type": "display_data",
          "data": {
            "text/plain": [
              "<Figure size 640x480 with 1 Axes>"
            ],
            "image/png": "[encoded data removed]"
          },
          "metadata": {}
        }
      ],
      "source": [
        "# Plot out the Loss and iteration diagram\n",
        "\n",
        "plt.plot(LOSS)\n",
        "plt.xlabel(\"Iterations \")\n",
        "plt.ylabel(\"Cost/total loss \")"
      ],
      "execution_count": 14
    },
    {
      "cell_type": "markdown",
      "metadata": {
        "id": "f491d1e1-7438-48f0-abdd-ed949aaea95b"
      },
      "source": [
        "<h3>Practice</h3>\n"
      ]
    },
    {
      "cell_type": "markdown",
      "metadata": {
        "id": "cb37f006-b602-4e0c-ab37-4759d2dbd7f7"
      },
      "source": [
        "Create a new <code>model1</code>. Train the model with a batch size 10 and learning rate 0.1, store the loss or total cost in a list <code>LOSS1</code>, and plot the results.\n"
      ]
    },
    {
      "cell_type": "code",
      "metadata": {
        "id": "3da4f34c-8585-46fd-861a-6ba267905db6"
      },
      "outputs": [],
      "source": [
        "# Practice create model1. Train the model with batch size 10 and learning rate 0.1, store the loss in a list <code>LOSS1</code>. Plot the results.\n",
        "\n",
        "data_set = Data2D()"
      ],
      "execution_count": 15
    },
    {
      "cell_type": "code",
      "source": [
        "train_loader = DataLoader(dataset = data_set, batch_size = 10)\n",
        "model1 = linear_regression(2, 1)\n",
        "optimizer = optim.SGD(model1.parameters(), lr = 0.1)\n",
        "LOSS1 = []\n",
        "epochs = 100\n",
        "def train_model(epochs):\n",
        "    for epoch in range(epochs):\n",
        "        for x,y in train_loader:\n",
        "            yhat = model1(x)\n",
        "            loss = criterion(yhat,y)\n",
        "            LOSS1.append(loss.item())\n",
        "            optimizer.zero_grad()\n",
        "            loss.backward()\n",
        "            optimizer.step()\n",
        "train_model(epochs)\n",
        "#Plot_2D_Plane(model1 , data_set)\n",
        "plt.plot(LOSS1)\n",
        "plt.xlabel(\"iterations \")\n",
        "plt.ylabel(\"Cost/total loss \")"
      ],
      "metadata": {
        "colab": {
          "base_uri": "https://localhost:8080/",
          "height": 466
        },
        "id": "GDSeCfhDRtxa",
        "outputId": "1bde7d10-9277-4763-aa7e-08f61c6ea49a"
      },
      "execution_count": 18,
      "outputs": [
        {
          "output_type": "execute_result",
          "data": {
            "text/plain": [
              "Text(0, 0.5, 'Cost/total loss ')"
            ]
          },
          "metadata": {},
          "execution_count": 18
        },
        {
          "output_type": "display_data",
          "data": {
            "text/plain": [
              "<Figure size 640x480 with 1 Axes>"
            ],
            "image/png": "[encoded data removed]"
          },
          "metadata": {}
        }
      ]
    },
    {
      "cell_type": "markdown",
      "metadata": {
        "id": "ac88d2be-cdec-4391-b785-168c50ee9b5d"
      },
      "source": [
        "Use the following validation data to calculate the total loss or cost for both models:\n"
      ]
    },
    {
      "cell_type": "code",
      "metadata": {
        "id": "290e5537-ec9e-4738-8aae-593fb83c5e49"
      },
      "outputs": [],
      "source": [
        "torch.manual_seed(2)\n",
        "\n",
        "validation_data = Data2D()\n",
        "Y = validation_data.y\n",
        "X = validation_data.x"
      ],
      "execution_count": 16
    }
  ],
  "metadata": {
    "kernelspec": {
      "display_name": "Python",
      "language": "python",
      "name": "conda-env-python-py"
    },
    "language_info": {
      "codemirror_mode": {
        "name": "ipython",
        "version": 3
      },
      "file_extension": ".py",
      "mimetype": "text/x-python",
      "name": "python",
      "nbconvert_exporter": "python",
      "pygments_lexer": "ipython3",
      "version": "3.7.12"
    },
    "prev_pub_hash": "df966eca7523e1c75fe118794d9cc9bcf263ed675dca200bd9d85b98373db432",
    "colab": {
      "provenance": [],
      "include_colab_link": true
    }
  },
  "nbformat": 4,
  "nbformat_minor": 0
}