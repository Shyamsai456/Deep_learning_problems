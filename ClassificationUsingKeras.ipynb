{
  "nbformat": 4,
  "nbformat_minor": 0,
  "metadata": {
    "colab": {
      "provenance": [],
      "authorship_tag": "ABX9TyNeDeoAd1SOOsZJMlIWBkzI",
      "include_colab_link": true
    },
    "kernelspec": {
      "name": "python3",
      "display_name": "Python 3"
    },
    "language_info": {
      "name": "python"
    }
  },
  "cells": [
    {
      "cell_type": "markdown",
      "metadata": {
        "id": "view-in-github",
        "colab_type": "text"
      },
      "source": [
        "<a href=\"https://colab.research.google.com/github/Shyamsai456/Deep_learning_problems/blob/main/ClassificationUsingKeras.ipynb\" target=\"_parent\"><img src=\"https://colab.research.google.com/assets/colab-badge.svg\" alt=\"Open In Colab\"/></a>"
      ]
    },
    {
      "cell_type": "markdown",
      "source": [
        " Keras library to build models for classificaiton problems.  used the popular MNIST dataset, a dataset of images, for a change.\n",
        "\n",
        "The <strong>MNIST database</strong>, short for Modified National Institute of Standards and Technology database, is a large database of handwritten digits that is commonly used for training various image processing systems. The database is also widely used for training and testing in the field of machine learning.\n",
        "    \n",
        "The MNIST database contains 60,000 training images and 10,000 testing images of digits written by high school students and employees of the United States Census Bureau.\n",
        "\n"
      ],
      "metadata": {
        "id": "UOtcjIZFDr6P"
      }
    },
    {
      "cell_type": "code",
      "execution_count": 2,
      "metadata": {
        "id": "5GZJwxWmtihP"
      },
      "outputs": [],
      "source": [
        "from tensorflow import keras\n",
        "\n",
        "from keras.models import Sequential\n",
        "from keras.layers import Dense\n",
        "from keras.layers import Input\n",
        "from keras.utils import to_categorical"
      ]
    },
    {
      "cell_type": "markdown",
      "source": [
        "from tensorflowimport keras\n",
        "\n",
        "from keras.models import Sequential\n",
        "from keras.layers import Dense\n",
        "from keras.layers import Input\n",
        "from keras.utils import to_categorical"
      ],
      "metadata": {
        "id": "1actmqhY9um8"
      }
    },
    {
      "cell_type": "code",
      "source": [
        "import matplotlib.pyplot as plt"
      ],
      "metadata": {
        "id": "b8_-oiuWAUxT"
      },
      "execution_count": 3,
      "outputs": []
    },
    {
      "cell_type": "code",
      "source": [
        "from keras.datasets import mnist\n",
        "\n",
        "# read the data\n",
        "(X_train, y_train), (X_test, y_test) = mnist.load_data()"
      ],
      "metadata": {
        "colab": {
          "base_uri": "https://localhost:8080/"
        },
        "id": "lXvNcoPpAnze",
        "outputId": "543a3ac6-860a-415d-aa83-b0cd10653b7b"
      },
      "execution_count": 4,
      "outputs": [
        {
          "output_type": "stream",
          "name": "stdout",
          "text": [
            "Downloading data from https://storage.googleapis.com/tensorflow/tf-keras-datasets/mnist.npz\n",
            "\u001b[1m11490434/11490434\u001b[0m \u001b[32m━━━━━━━━━━━━━━━━━━━━\u001b[0m\u001b[37m\u001b[0m \u001b[1m0s\u001b[0m 0us/step\n"
          ]
        }
      ]
    },
    {
      "cell_type": "code",
      "source": [
        "X_train.shape"
      ],
      "metadata": {
        "colab": {
          "base_uri": "https://localhost:8080/"
        },
        "id": "vwAdsFQ0AtYh",
        "outputId": "69726800-ddd7-4835-ad4a-a6a8df12253d"
      },
      "execution_count": 5,
      "outputs": [
        {
          "output_type": "execute_result",
          "data": {
            "text/plain": [
              "(60000, 28, 28)"
            ]
          },
          "metadata": {},
          "execution_count": 5
        }
      ]
    },
    {
      "cell_type": "code",
      "source": [
        "plt.imshow(X_train[0])"
      ],
      "metadata": {
        "colab": {
          "base_uri": "https://localhost:8080/",
          "height": 447
        },
        "id": "IYW3hQeDAwrc",
        "outputId": "9b760c14-aed7-40de-e16d-f2566fb62eb8"
      },
      "execution_count": 6,
      "outputs": [
        {
          "output_type": "execute_result",
          "data": {
            "text/plain": [
              "<matplotlib.image.AxesImage at 0x7b6299e96380>"
            ]
          },
          "metadata": {},
          "execution_count": 6
        },
        {
          "output_type": "display_data",
          "data": {
            "text/plain": [
              "<Figure size 640x480 with 1 Axes>"
            ],
            "image/png": "[encoded data removed]"
          },
          "metadata": {}
        }
      ]
    },
    {
      "cell_type": "code",
      "source": [
        "# flatten images into one-dimensional vector\n",
        "\n",
        "num_pixels = X_train.shape[1] * X_train.shape[2] # find size of one-dimensional vector\n",
        "\n",
        "X_train = X_train.reshape(X_train.shape[0], num_pixels).astype('float32') # flatten training images\n",
        "X_test = X_test.reshape(X_test.shape[0], num_pixels).astype('float32') # flatten test images\n"
      ],
      "metadata": {
        "id": "cTAcN47UA1Im"
      },
      "execution_count": 7,
      "outputs": []
    },
    {
      "cell_type": "code",
      "source": [
        "num_pixels"
      ],
      "metadata": {
        "colab": {
          "base_uri": "https://localhost:8080/"
        },
        "id": "13PKK6h5EQ63",
        "outputId": "c9539eac-27bc-4bb3-f758-d6e7a9a462d7"
      },
      "execution_count": 12,
      "outputs": [
        {
          "output_type": "execute_result",
          "data": {
            "text/plain": [
              "784"
            ]
          },
          "metadata": {},
          "execution_count": 12
        }
      ]
    },
    {
      "cell_type": "code",
      "source": [
        "# normalize inputs from 0-255 to 0-1\n",
        "X_train = X_train / 255\n",
        "X_test = X_test / 255"
      ],
      "metadata": {
        "id": "TDTYhBxhA1cC"
      },
      "execution_count": 8,
      "outputs": []
    },
    {
      "cell_type": "code",
      "source": [
        "# one hot encode outputs\n",
        "y_train = to_categorical(y_train)\n",
        "y_test = to_categorical(y_test)\n",
        "\n",
        "num_classes = y_test.shape[1]\n",
        "print(num_classes)"
      ],
      "metadata": {
        "colab": {
          "base_uri": "https://localhost:8080/"
        },
        "id": "LoRo8TFSA_AV",
        "outputId": "4420ab4a-9040-41c2-be44-0ab1852671d2"
      },
      "execution_count": 9,
      "outputs": [
        {
          "output_type": "stream",
          "name": "stdout",
          "text": [
            "10\n"
          ]
        }
      ]
    },
    {
      "cell_type": "code",
      "source": [
        "# define classification model\n",
        "def classification_model():\n",
        "    # create model\n",
        "\n",
        "    model = Sequential()\n",
        "    model.add(Input(shape=(num_pixels,)))\n",
        "    model.add(Dense(num_pixels, activation='relu'))\n",
        "    model.add(Dense(100, activation='relu'))\n",
        "    model.add(Dense(num_classes, activation='softmax'))\n",
        "\n",
        "\n",
        "    # compile model\n",
        "    model.compile(optimizer='adam', loss='categorical_crossentropy', metrics=['accuracy'])\n",
        "    return model"
      ],
      "metadata": {
        "id": "1teMMl3MBDQb"
      },
      "execution_count": 10,
      "outputs": []
    },
    {
      "cell_type": "code",
      "source": [
        "# build the model\n",
        "model = classification_model()\n",
        "\n",
        "# fit the model\n",
        "model.fit(X_train, y_train, validation_data=(X_test, y_test), epochs=10, verbose=2)\n",
        "\n",
        "# evaluate the model\n",
        "scores = model.evaluate(X_test, y_test, verbose=0)"
      ],
      "metadata": {
        "colab": {
          "base_uri": "https://localhost:8080/"
        },
        "id": "XloqOMOTBGbw",
        "outputId": "85b2c722-b68d-48f7-8162-c1b0f7823bbb"
      },
      "execution_count": 11,
      "outputs": [
        {
          "output_type": "stream",
          "name": "stdout",
          "text": [
            "Epoch 1/10\n",
            "1875/1875 - 20s - 11ms/step - accuracy: 0.9430 - loss: 0.1867 - val_accuracy: 0.9698 - val_loss: 0.1025\n",
            "Epoch 2/10\n",
            "1875/1875 - 21s - 11ms/step - accuracy: 0.9754 - loss: 0.0785 - val_accuracy: 0.9757 - val_loss: 0.0758\n",
            "Epoch 3/10\n",
            "1875/1875 - 19s - 10ms/step - accuracy: 0.9822 - loss: 0.0553 - val_accuracy: 0.9796 - val_loss: 0.0710\n",
            "Epoch 4/10\n",
            "1875/1875 - 23s - 12ms/step - accuracy: 0.9869 - loss: 0.0402 - val_accuracy: 0.9772 - val_loss: 0.0791\n",
            "Epoch 5/10\n",
            "1875/1875 - 40s - 22ms/step - accuracy: 0.9895 - loss: 0.0316 - val_accuracy: 0.9784 - val_loss: 0.0719\n",
            "Epoch 6/10\n",
            "1875/1875 - 20s - 10ms/step - accuracy: 0.9919 - loss: 0.0263 - val_accuracy: 0.9820 - val_loss: 0.0700\n",
            "Epoch 7/10\n",
            "1875/1875 - 21s - 11ms/step - accuracy: 0.9933 - loss: 0.0210 - val_accuracy: 0.9823 - val_loss: 0.0664\n",
            "Epoch 8/10\n",
            "1875/1875 - 19s - 10ms/step - accuracy: 0.9935 - loss: 0.0194 - val_accuracy: 0.9813 - val_loss: 0.0750\n",
            "Epoch 9/10\n",
            "1875/1875 - 22s - 12ms/step - accuracy: 0.9943 - loss: 0.0181 - val_accuracy: 0.9831 - val_loss: 0.0713\n",
            "Epoch 10/10\n",
            "1875/1875 - 19s - 10ms/step - accuracy: 0.9948 - loss: 0.0176 - val_accuracy: 0.9802 - val_loss: 0.0826\n"
          ]
        }
      ]
    },
    {
      "cell_type": "code",
      "source": [
        "print('Accuracy: {}% \\n Error: {}'.format(scores[1], 1 - scores[1]))"
      ],
      "metadata": {
        "colab": {
          "base_uri": "https://localhost:8080/"
        },
        "id": "fH0lzBVLBI-m",
        "outputId": "ae800b81-ff00-4e59-cc0a-1c67c880dd5f"
      },
      "execution_count": 13,
      "outputs": [
        {
          "output_type": "stream",
          "name": "stdout",
          "text": [
            "Accuracy: 0.9801999926567078% \n",
            " Error: 0.019800007343292236\n"
          ]
        }
      ]
    },
    {
      "cell_type": "markdown",
      "source": [
        "<h2>Code Explanation</h2>\n",
        "\n",
        "<ol>\n",
        "  <li>\n",
        "    <strong>Importing Libraries</strong>\n",
        "    <ul>\n",
        "      <li><code>tensorflow</code> and <code>keras</code> are used for building and training deep learning models.</li>\n",
        "      <li><code>matplotlib.pyplot</code> is used for displaying images.</li>\n",
        "      <li><code>mnist</code> is a built-in dataset in Keras, containing 28x28 grayscale images of handwritten digits (0-9).</li>\n",
        "    </ul>\n",
        "  </li>\n",
        "\n",
        "  <li>\n",
        "    <strong>Loading the MNIST Dataset</strong>\n",
        "    <ul>\n",
        "      <li><code>mnist.load_data()</code> loads the training and test datasets (images and their corresponding labels).</li>\n",
        "      <li>The dataset is split into <code>X_train</code> (images for training) and <code>y_train</code> (labels for training), and similarly for the test dataset (<code>X_test</code>, <code>y_test</code>).</li>\n",
        "    </ul>\n",
        "  </li>\n",
        "\n",
        "  <li>\n",
        "    <strong>Visualizing the First Image</strong>\n",
        "    <ul>\n",
        "      <li><code>plt.imshow(X_train[0])</code> is used to visualize the first image in the training dataset. The <code>imshow()</code> function displays the image as a grid of pixels.</li>\n",
        "    </ul>\n",
        "  </li>\n",
        "\n",
        "  <li>\n",
        "    <strong>Flattening the Images</strong>\n",
        "    <ul>\n",
        "      <li>Each image in the MNIST dataset is 28x28 pixels. We need to flatten it into a 1D vector with <code>28 * 28 = 784</code> features for each image. This is done with the <code>reshape()</code> function.</li>\n",
        "      <li><code>X_train.reshape(X_train.shape[0], num_pixels)</code> flattens all images in the training set.</li>\n",
        "      <li><code>astype('float32')</code> ensures that the image pixel values are in the appropriate data type for the model.</li>\n",
        "    </ul>\n",
        "  </li>\n",
        "\n",
        "  <li>\n",
        "    <strong>Normalizing Input Values</strong>\n",
        "    <ul>\n",
        "      <li>The pixel values are integers between 0 and 255, but we need to scale them to be between 0 and 1. This is done by dividing the pixel values by 255.</li>\n",
        "      <li><code>X_train = X_train / 255</code> ensures that the input features are normalized, which helps improve the model's performance.</li>\n",
        "    </ul>\n",
        "  </li>\n",
        "\n",
        "  <li>\n",
        "    <strong>One-Hot Encoding the Labels</strong>\n",
        "    <ul>\n",
        "      <li>The output labels are integers between 0 and 9, but for a classification task, we need to represent them as one-hot encoded vectors (e.g., <code>[1, 0, 0, 0, 0, 0, 0, 0, 0, 0]</code> for label 0).</li>\n",
        "      <li><code>to_categorical()</code> is used to perform this transformation on the labels.</li>\n",
        "    </ul>\n",
        "  </li>\n",
        "\n",
        "  <li>\n",
        "    <strong>Defining the Classification Model</strong>\n",
        "    <ul>\n",
        "      <li>The model is defined as a <strong>Sequential</strong> model, where layers are stacked on top of each other.</li>\n",
        "      <li><strong>Input Layer</strong>: The model expects inputs with a shape of <code>(num_pixels,)</code> (784 features in this case).</li>\n",
        "      <li><strong>Dense Layers</strong>:\n",
        "        <ul>\n",
        "          <li>The first dense layer has <code>num_pixels</code> neurons and uses the <strong>ReLU</strong> activation function.</li>\n",
        "          <li>The second dense layer has 100 neurons, again using <strong>ReLU</strong>.</li>\n",
        "          <li>The output layer has <code>num_classes</code> neurons (one for each digit) and uses the <strong>Softmax</strong> activation to output probabilities.</li>\n",
        "        </ul>\n",
        "      </li>\n",
        "      <li>The model is compiled with the <strong>Adam</strong> optimizer and <strong>categorical cross-entropy</strong> loss function, suitable for multi-class classification tasks.</li>\n",
        "    </ul>\n",
        "  </li>\n",
        "\n",
        "  <li>\n",
        "    <strong>Training the Model</strong>\n",
        "    <ul>\n",
        "      <li>The model is trained using <code>model.fit()</code>. This method takes in the training data (<code>X_train</code>, <code>y_train</code>), and the test data (<code>X_test</code>, <code>y_test</code>) is passed for validation.</li>\n",
        "      <li>The model will run for 10 epochs (iterations over the entire dataset), and the <code>verbose=2</code> argument controls how much information is printed during training.</li>\n",
        "    </ul>\n",
        "  </li>\n",
        "\n",
        "  <li>\n",
        "    <strong>Evaluating the Model</strong>\n",
        "    <ul>\n",
        "      <li><code>model.evaluate()</code> is used to evaluate the trained model on the test data (<code>X_test</code>, <code>y_test</code>). It returns the loss and accuracy.</li>\n",
        "      <li>The accuracy is printed as a percentage, and the error is calculated as <code>1 - accuracy</code>.</li>\n",
        "    </ul>\n",
        "  </li>\n",
        "</ol>\n",
        "\n",
        "<hr>\n",
        "\n",
        "<h3>Output Example</h3>\n",
        "\n",
        "<p>You should see something like this:</p>\n",
        "\n",
        "<pre>\n",
        "Accuracy: 98.32%\n",
        "Error: 0.0168\n",
        "</pre>\n",
        "\n",
        "<p>This shows the model's accuracy on the test set and the error rate (1 minus the accuracy).</p>\n"
      ],
      "metadata": {
        "id": "uiLUWmS9DmP6"
      }
    },
    {
      "cell_type": "markdown",
      "source": [
        "<h3><strong>Saving the Model</strong><h3>"
      ],
      "metadata": {
        "id": "fe-zCiFcGEnm"
      }
    },
    {
      "cell_type": "code",
      "source": [
        "model.save('classification_model.keras')"
      ],
      "metadata": {
        "id": "6UakWCOkBPYP"
      },
      "execution_count": 14,
      "outputs": []
    },
    {
      "cell_type": "markdown",
      "source": [
        "<h3><strong>loading the Model</strong><h3>"
      ],
      "metadata": {
        "id": "ue0HTjz4GXye"
      }
    },
    {
      "cell_type": "code",
      "source": [
        "#pretrained_model = keras.saving.load_model('classification_model.keras')\n",
        "pretrained_model = keras.models.load_model('classification_model.keras')"
      ],
      "metadata": {
        "id": "mxRL9PdxBSNh"
      },
      "execution_count": 17,
      "outputs": []
    },
    {
      "cell_type": "markdown",
      "source": [
        "<h3><strong>Testing the Model</strong><h3>"
      ],
      "metadata": {
        "id": "jl3BqFQKGeOW"
      }
    },
    {
      "cell_type": "code",
      "source": [
        "import numpy as np\n",
        "\n",
        "# Step 4: Select an index from the dataset (e.g., select the 0th item in the test set)\n",
        "index = 10  # you can change this index to select any item from the dataset\n",
        "\n",
        "# Step 5: Make a prediction for the selected item\n",
        "predicted_class = np.argmax(model.predict(X_test[index:index+1]))  # Get the index of the predicted class\n",
        "true_class = np.argmax(y_test[index])  # Get the true class label\n",
        "\n",
        "# Step 6: Compare the prediction with the true label\n",
        "print(f\"Predicted Class: {predicted_class}\")\n",
        "print(f\"True Class: {true_class}\")\n",
        "\n",
        "# Step 7: Display the image for reference\n",
        "plt.imshow(X_test[index].reshape(28, 28), cmap='gray')\n",
        "plt.title(f\"True: {true_class}, Predicted: {predicted_class}\")\n",
        "plt.show()\n",
        "\n",
        "# Step 8: Check if the prediction is correct\n",
        "if predicted_class == true_class:\n",
        "    print(\"The prediction is correct!\")\n",
        "else:\n",
        "    print(\"The prediction is incorrect.\")"
      ],
      "metadata": {
        "colab": {
          "base_uri": "https://localhost:8080/",
          "height": 521
        },
        "id": "r1w4juDAFjbR",
        "outputId": "02b623d3-cb33-4b7a-925d-a7c7b35187fd"
      },
      "execution_count": 20,
      "outputs": [
        {
          "output_type": "stream",
          "name": "stdout",
          "text": [
            "\u001b[1m1/1\u001b[0m \u001b[32m━━━━━━━━━━━━━━━━━━━━\u001b[0m\u001b[37m\u001b[0m \u001b[1m0s\u001b[0m 28ms/step\n",
            "Predicted Class: 0\n",
            "True Class: 0\n"
          ]
        },
        {
          "output_type": "display_data",
          "data": {
            "text/plain": [
              "<Figure size 640x480 with 1 Axes>"
            ],
            "image/png": "[encoded data removed]"
          },
          "metadata": {}
        },
        {
          "output_type": "stream",
          "name": "stdout",
          "text": [
            "The prediction is correct!\n"
          ]
        }
      ]
    },
    {
      "cell_type": "markdown",
      "source": [],
      "metadata": {
        "id": "ecNyaG97Dpt4"
      }
    }
  ]
}