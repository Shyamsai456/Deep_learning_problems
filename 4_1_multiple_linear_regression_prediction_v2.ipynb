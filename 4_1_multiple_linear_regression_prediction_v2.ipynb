{
  "cells": [
    {
      "cell_type": "markdown",
      "metadata": {
        "id": "view-in-github",
        "colab_type": "text"
      },
      "source": [
        "<a href=\"https://colab.research.google.com/github/Shyamsai456/Deep_learning_problems/blob/main/4_1_multiple_linear_regression_prediction_v2.ipynb\" target=\"_parent\"><img src=\"https://colab.research.google.com/assets/colab-badge.svg\" alt=\"Open In Colab\"/></a>"
      ]
    },
    {
      "cell_type": "markdown",
      "metadata": {
        "id": "ewrrv7PdN0HE"
      },
      "source": [
        "<h1>Multiple Linear Regression</h1>\n"
      ]
    },
    {
      "cell_type": "markdown",
      "metadata": {
        "id": "MaNlML4oN0HF"
      },
      "source": [
        "<h2>Preparation</h2>\n"
      ]
    },
    {
      "cell_type": "markdown",
      "metadata": {
        "id": "MQ31EbqZN0HG"
      },
      "source": [
        "Import the libraries and set the random seed.\n"
      ]
    },
    {
      "cell_type": "code",
      "execution_count": null,
      "metadata": {
        "tags": [],
        "colab": {
          "base_uri": "https://localhost:8080/"
        },
        "id": "5FXnze6-N0HG",
        "outputId": "20e7a4cb-53aa-451a-b3ef-948adc464004"
      },
      "outputs": [
        {
          "output_type": "execute_result",
          "data": {
            "text/plain": [
              "<torch._C.Generator at 0x7d27a4eb1990>"
            ]
          },
          "metadata": {},
          "execution_count": 1
        }
      ],
      "source": [
        "# Import the libraries and set the random seed\n",
        "\n",
        "from torch import nn\n",
        "import torch\n",
        "torch.manual_seed(1)"
      ]
    },
    {
      "cell_type": "markdown",
      "metadata": {
        "id": "IhhfzmHQN0HI"
      },
      "source": [
        "<!--Empty Space for separating topics-->\n"
      ]
    },
    {
      "cell_type": "markdown",
      "metadata": {
        "id": "_5pl3XGdN0HI"
      },
      "source": [
        "<h2 id=\"Prediction\">Prediction</h2>\n"
      ]
    },
    {
      "cell_type": "markdown",
      "metadata": {
        "id": "IPtv6rlbN0HI"
      },
      "source": [
        "Set weight and bias.\n"
      ]
    },
    {
      "cell_type": "code",
      "execution_count": null,
      "metadata": {
        "tags": [],
        "id": "MbwM6ox1N0HI"
      },
      "outputs": [],
      "source": [
        "# Set the weight and bias\n",
        "\n",
        "w = torch.tensor([[2.0], [3.0]], requires_grad=True)\n",
        "b = torch.tensor([[1.0]], requires_grad=True)"
      ]
    },
    {
      "cell_type": "markdown",
      "metadata": {
        "id": "GvfM3yDEN0HJ"
      },
      "source": [
        "Define the parameters. <code>torch.mm</code> uses matrix multiplication instead of scaler multiplication.\n"
      ]
    },
    {
      "cell_type": "code",
      "execution_count": null,
      "metadata": {
        "tags": [],
        "id": "2jhMr7tPN0HJ"
      },
      "outputs": [],
      "source": [
        "# Define Prediction Function\n",
        "\n",
        "def forward(x):\n",
        "    yhat = torch.mm(x, w) + b\n",
        "    return yhat"
      ]
    },
    {
      "cell_type": "markdown",
      "metadata": {
        "id": "E8JIXb1nN0HJ"
      },
      "source": [
        "The function <code>forward</code> implements the following equation:\n"
      ]
    },
    {
      "cell_type": "markdown",
      "metadata": {
        "id": "OMJ06gLGN0HJ"
      },
      "source": [
        "<img src=\"https://s3-api.us-geo.objectstorage.softlayer.net/cf-courses-data/CognitiveClass/DL0110EN/notebook_images%20/chapter2/2.6.1_matrix_eq.png\" width=\"600\" alt=\"Matrix Linear Regression\">\n"
      ]
    },
    {
      "cell_type": "markdown",
      "metadata": {
        "id": "1WejdBGON0HJ"
      },
      "source": [
        "If we input a <i>1x2</i> tensor, because we have a <i>2x1</i> tensor as <code>w</code>, we will get a <i>1x1</i> tensor:\n"
      ]
    },
    {
      "cell_type": "code",
      "execution_count": null,
      "metadata": {
        "tags": [],
        "colab": {
          "base_uri": "https://localhost:8080/"
        },
        "id": "SWASMD3UN0HK",
        "outputId": "780d1712-77dc-4c3d-a514-584d8d2e911c"
      },
      "outputs": [
        {
          "output_type": "stream",
          "name": "stdout",
          "text": [
            "The result:  tensor([[9.]], grad_fn=<AddBackward0>)\n"
          ]
        }
      ],
      "source": [
        "# Calculate yhat\n",
        "\n",
        "x = torch.tensor([[1.0, 2.0]])\n",
        "yhat = forward(x)\n",
        "print(\"The result: \", yhat)"
      ]
    },
    {
      "cell_type": "markdown",
      "metadata": {
        "id": "sgnk4SjmN0HK"
      },
      "source": [
        "<img src=\"https://cf-courses-data.s3.us.cloud-object-storage.appdomain.cloud/JBkvPoMCCa-PDXCF_4aQfQ/image%20-1-.png\" width=\"300\" alt=\"Linear Regression Matrix Sample One\">\n"
      ]
    },
    {
      "cell_type": "markdown",
      "metadata": {
        "id": "qFAZpCXVN0HK"
      },
      "source": [
        "# Each row of the following tensor represents a sample:\n"
      ]
    },
    {
      "cell_type": "code",
      "execution_count": null,
      "metadata": {
        "id": "iW-6ra_5N0HK"
      },
      "outputs": [],
      "source": [
        "# Sample tensor X\n",
        "\n",
        "X = torch.tensor([[1.0, 1.0], [1.0, 2.0], [1.0, 3.0]])"
      ]
    },
    {
      "cell_type": "code",
      "execution_count": null,
      "metadata": {
        "colab": {
          "base_uri": "https://localhost:8080/"
        },
        "id": "7y0sWCZWN0HK",
        "outputId": "3d249334-562c-4943-e3b0-1e0b372d1d2a"
      },
      "outputs": [
        {
          "output_type": "stream",
          "name": "stdout",
          "text": [
            "The result:  tensor([[ 6.],\n",
            "        [ 9.],\n",
            "        [12.]], grad_fn=<AddBackward0>)\n"
          ]
        }
      ],
      "source": [
        "# Make the prediction of X\n",
        "\n",
        "yhat = forward(X)\n",
        "print(\"The result: \", yhat)"
      ]
    },
    {
      "cell_type": "markdown",
      "metadata": {
        "id": "J579Q6QPN0HL"
      },
      "source": [
        "<!--Empty Space for separating topics-->\n"
      ]
    },
    {
      "cell_type": "markdown",
      "metadata": {
        "id": "myCL7imyN0HL"
      },
      "source": [
        "## Class Linear\n"
      ]
    },
    {
      "cell_type": "markdown",
      "metadata": {
        "id": "WGeTQ_aiN0HL"
      },
      "source": [
        "We can use the linear class to make a prediction. You'll also use the linear class to build more complex models.\n"
      ]
    },
    {
      "cell_type": "markdown",
      "metadata": {
        "id": "M-KxkuYqN0HL"
      },
      "source": [
        "Let us create a model.\n"
      ]
    },
    {
      "cell_type": "code",
      "execution_count": null,
      "metadata": {
        "id": "OLfzn_SEN0HL"
      },
      "outputs": [],
      "source": [
        "# Make a linear regression model using build-in function\n",
        "\n",
        "model = nn.Linear(2, 1)"
      ]
    },
    {
      "cell_type": "markdown",
      "metadata": {
        "id": "WPUEiL47N0HL"
      },
      "source": [
        "Make a prediction with the first sample:\n"
      ]
    },
    {
      "cell_type": "code",
      "execution_count": null,
      "metadata": {
        "colab": {
          "base_uri": "https://localhost:8080/"
        },
        "id": "0Xa8PeHAN0HL",
        "outputId": "ef7d134b-a70a-44c2-df63-f8aa0a6cdc24"
      },
      "outputs": [
        {
          "output_type": "stream",
          "name": "stdout",
          "text": [
            "The result:  tensor([[-0.3969]], grad_fn=<AddmmBackward0>)\n"
          ]
        }
      ],
      "source": [
        "# Make a prediction of x\n",
        "\n",
        "yhat = model(x)\n",
        "print(\"The result: \", yhat)"
      ]
    },
    {
      "cell_type": "markdown",
      "metadata": {
        "id": "u-L2yRsgN0HL"
      },
      "source": [
        "Predict with multiple samples <code>X</code>:\n"
      ]
    },
    {
      "cell_type": "code",
      "execution_count": null,
      "metadata": {
        "colab": {
          "base_uri": "https://localhost:8080/"
        },
        "id": "GkgvVjHBN0HM",
        "outputId": "e4a673a9-c25f-4ce2-ac01-1c98eb61d10c"
      },
      "outputs": [
        {
          "output_type": "stream",
          "name": "stdout",
          "text": [
            "The result:  tensor([[-0.0848],\n",
            "        [-0.3969],\n",
            "        [-0.7090]], grad_fn=<AddmmBackward0>)\n"
          ]
        }
      ],
      "source": [
        "# Make a prediction of X\n",
        "\n",
        "yhat = model(X)\n",
        "print(\"The result: \", yhat)"
      ]
    },
    {
      "cell_type": "markdown",
      "metadata": {
        "id": "FyOS2WaGN0HM"
      },
      "source": [
        "The function performs matrix multiplication as shown in this image:\n"
      ]
    },
    {
      "cell_type": "markdown",
      "metadata": {
        "id": "wN78C_lxN0HM"
      },
      "source": [
        "<img src=\"https://s3-api.us-geo.objectstorage.softlayer.net/cf-courses-data/CognitiveClass/DL0110EN/notebook_images%20/chapter2/2.6.1multi_sample_example.png\" width=\"600\" alt=\"Linear Regression Matrix Sample One\">\n"
      ]
    },
    {
      "cell_type": "markdown",
      "metadata": {
        "id": "Rt7YzHUyN0HM"
      },
      "source": [
        "<!--Empty Space for separating topics-->\n"
      ]
    },
    {
      "cell_type": "markdown",
      "metadata": {
        "id": "4a5hBuMlN0HM"
      },
      "source": [
        "## Build Custom Modules\n"
      ]
    },
    {
      "cell_type": "code",
      "execution_count": null,
      "metadata": {
        "id": "NwJv-IwcN0HN"
      },
      "outputs": [],
      "source": [
        "# Create linear_regression Class\n",
        "\n",
        "class linear_regression(nn.Module):\n",
        "\n",
        "    # Constructor\n",
        "    def __init__(self, input_size, output_size):\n",
        "        super(linear_regression, self).__init__()\n",
        "        self.linear = nn.Linear(input_size, output_size)\n",
        "\n",
        "    # Prediction function\n",
        "    def forward(self, x):\n",
        "        yhat = self.linear(x)\n",
        "        return yhat"
      ]
    },
    {
      "cell_type": "markdown",
      "metadata": {
        "id": "vyMfm-e6N0HN"
      },
      "source": [
        "Build a linear regression object. The input feature size is two.\n"
      ]
    },
    {
      "cell_type": "code",
      "execution_count": null,
      "metadata": {
        "id": "WTV2ugw6N0HN"
      },
      "outputs": [],
      "source": [
        "model = linear_regression(2, 1)"
      ]
    },
    {
      "cell_type": "markdown",
      "metadata": {
        "id": "F7qbb3TRN0HN"
      },
      "source": [
        "This will input the following equation:\n"
      ]
    },
    {
      "cell_type": "markdown",
      "metadata": {
        "id": "HAlCsaT7N0HO"
      },
      "source": [
        "<img src=\"https://s3-api.us-geo.objectstorage.softlayer.net/cf-courses-data/CognitiveClass/DL0110EN/notebook_images%20/chapter2/2.6.1_matrix_eq.png\" width=\"600\" alt=\"Matrix Linear Regression\">\n"
      ]
    },
    {
      "cell_type": "markdown",
      "metadata": {
        "id": "a5Z0VvgZN0HP"
      },
      "source": [
        "You can see the randomly initialized parameters by using the <code>parameters()</code> method:\n"
      ]
    },
    {
      "cell_type": "code",
      "execution_count": null,
      "metadata": {
        "colab": {
          "base_uri": "https://localhost:8080/"
        },
        "id": "0QNHprtoN0HP",
        "outputId": "e5c91165-b14c-411b-e520-9031467fa65f"
      },
      "outputs": [
        {
          "output_type": "stream",
          "name": "stdout",
          "text": [
            "The parameters:  [Parameter containing:\n",
            "tensor([[ 0.3319, -0.6657]], requires_grad=True), Parameter containing:\n",
            "tensor([0.4241], requires_grad=True)]\n"
          ]
        }
      ],
      "source": [
        "# Print model parameters\n",
        "\n",
        "print(\"The parameters: \", list(model.parameters()))"
      ]
    },
    {
      "cell_type": "markdown",
      "metadata": {
        "id": "WcHCL9-8N0HP"
      },
      "source": [
        "You can also see the parameters by using the <code>state_dict()</code> method:\n"
      ]
    },
    {
      "cell_type": "code",
      "execution_count": null,
      "metadata": {
        "colab": {
          "base_uri": "https://localhost:8080/"
        },
        "id": "UwZNQi38N0HP",
        "outputId": "bd4eb0c9-700e-4b2b-f327-163857395df7"
      },
      "outputs": [
        {
          "output_type": "stream",
          "name": "stdout",
          "text": [
            "The parameters:  OrderedDict([('linear.weight', tensor([[ 0.3319, -0.6657]])), ('linear.bias', tensor([0.4241]))])\n"
          ]
        }
      ],
      "source": [
        "# Print model parameters\n",
        "\n",
        "print(\"The parameters: \", model.state_dict())"
      ]
    },
    {
      "cell_type": "markdown",
      "metadata": {
        "id": "6xHLZWkxN0HQ"
      },
      "source": [
        "Now we input a 1x2 tensor, and we will get a 1x1 tensor.\n"
      ]
    },
    {
      "cell_type": "code",
      "execution_count": null,
      "metadata": {
        "colab": {
          "base_uri": "https://localhost:8080/"
        },
        "id": "gsLB2nDgN0HQ",
        "outputId": "08e4cf4f-e45b-40c4-a274-20bec12b14b0"
      },
      "outputs": [
        {
          "output_type": "stream",
          "name": "stdout",
          "text": [
            "The result:  tensor([[-0.5754]], grad_fn=<AddmmBackward0>)\n"
          ]
        }
      ],
      "source": [
        "# Make a prediction of x\n",
        "\n",
        "yhat = model(x)\n",
        "print(\"The result: \", yhat)"
      ]
    },
    {
      "cell_type": "markdown",
      "metadata": {
        "id": "Qy7wXU4ZN0HQ"
      },
      "source": [
        "The shape of the output is shown in the following image:\n"
      ]
    },
    {
      "cell_type": "markdown",
      "metadata": {
        "id": "NTadWXmJN0HQ"
      },
      "source": [
        "<img src=\"https://s3-api.us-geo.objectstorage.softlayer.net/cf-courses-data/CognitiveClass/DL0110EN/notebook_images%20/chapter2/2.6.1_matrix_eq.png\" width=\"600\" alt=\"Matrix Linear Regression\">\n"
      ]
    },
    {
      "cell_type": "markdown",
      "metadata": {
        "id": "Q6WykhbLN0HQ"
      },
      "source": [
        "Make a prediction for multiple samples:\n"
      ]
    },
    {
      "cell_type": "code",
      "execution_count": null,
      "metadata": {
        "colab": {
          "base_uri": "https://localhost:8080/"
        },
        "id": "AG35sh-hN0HR",
        "outputId": "051e579f-9319-4aa9-8f81-c085b9e79925"
      },
      "outputs": [
        {
          "output_type": "stream",
          "name": "stdout",
          "text": [
            "The result:  tensor([[ 0.0903],\n",
            "        [-0.5754],\n",
            "        [-1.2411]], grad_fn=<AddmmBackward0>)\n"
          ]
        }
      ],
      "source": [
        "# Make a prediction of X\n",
        "\n",
        "yhat = model(X)\n",
        "print(\"The result: \", yhat)"
      ]
    },
    {
      "cell_type": "markdown",
      "metadata": {
        "id": "K9nvBm1sN0HR"
      },
      "source": [
        "The shape is shown in the following image:\n"
      ]
    },
    {
      "cell_type": "markdown",
      "metadata": {
        "id": "TPAXccwsN0HR"
      },
      "source": [
        "<img src=\"https://s3-api.us-geo.objectstorage.softlayer.net/cf-courses-data/CognitiveClass/DL0110EN/notebook_images%20/chapter2/2.6.1Multi_sample.png\" width=\"600\" alt=\"Multiple Samples Linear Regression\">\n"
      ]
    },
    {
      "cell_type": "markdown",
      "metadata": {
        "id": "xltJlTbHN0HR"
      },
      "source": [
        "<!--Empty Space for separating topics-->\n"
      ]
    },
    {
      "cell_type": "markdown",
      "metadata": {
        "id": "EDRzZSN4N0HS"
      },
      "source": [
        "<h3>Practice</h3>\n"
      ]
    },
    {
      "cell_type": "code",
      "execution_count": null,
      "metadata": {
        "colab": {
          "base_uri": "https://localhost:8080/"
        },
        "id": "FEGTL8LwN0HS",
        "outputId": "d86747b4-bf11-4f26-d1da-88989f1e4183"
      },
      "outputs": [
        {
          "output_type": "stream",
          "name": "stdout",
          "text": [
            " the result is:  tensor([[2.1062],\n",
            "        [2.1062]], grad_fn=<AddmmBackward0>)\n"
          ]
        }
      ],
      "source": [
        "# Practice: Build a model to predict the follow tensor.\n",
        "\n",
        "X = torch.tensor([[11.0, 12.0, 13, 14], [11, 12, 13, 14]])\n",
        "\n",
        "model = linear_regression(4, 1)\n",
        "yhat = model(X)\n",
        "print(\" the result is: \", yhat)"
      ]
    },
    {
      "cell_type": "markdown",
      "metadata": {
        "id": "5LcAqW2qN0HT"
      },
      "source": [
        "<!--Empty Space for separating topics-->\n"
      ]
    }
  ],
  "metadata": {
    "kernelspec": {
      "display_name": "Python",
      "language": "python",
      "name": "conda-env-python-py"
    },
    "language_info": {
      "codemirror_mode": {
        "name": "ipython",
        "version": 3
      },
      "file_extension": ".py",
      "mimetype": "text/x-python",
      "name": "python",
      "nbconvert_exporter": "python",
      "pygments_lexer": "ipython3",
      "version": "3.7.12"
    },
    "prev_pub_hash": "7d9d1a8cf107d8de93bd744aac98621a30bc325b172f4a898b5c882359be15d8",
    "colab": {
      "provenance": [],
      "include_colab_link": true
    }
  },
  "nbformat": 4,
  "nbformat_minor": 0
}